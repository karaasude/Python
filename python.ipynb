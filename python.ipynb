{
  "cells": [
    {
      "cell_type": "code",
      "source": [],
      "metadata": {
        "id": "XeDM8ZE9GlCo"
      },
      "execution_count": null,
      "outputs": []
    },
    {
      "cell_type": "code",
      "source": [
        "import random\n",
        "\n",
        "def tas_kagit_makas_Sude_Rabia_Karaaslan():\n",
        "    print('Welcome to the game')\n",
        "    print('Rule1: There are 3 characters: Tas, Kagıt, and Makas. Kagıt wins against Tas, Tas wins against Makas, Makas wins against Kagıt')\n",
        "    print('Rule2: The player who reaches 3 points wins')\n",
        "\n",
        "    choices = [\"Tas\", \"Kagıt\", \"Makas\"]\n",
        "    user_score = 0\n",
        "    computer_score = 0\n",
        "\n",
        "    while user_score < 3 and computer_score < 3:\n",
        "        # Secim yapma\n",
        "        user_choice = input(\"Choose Tas, Kagıt, or Makas: \").capitalize()\n",
        "\n",
        "        # Kullanıcının geçersiz bir seçim yapması\n",
        "        if user_choice not in choices:\n",
        "            print(\"Seçenek değil. Lütfen seçeneklerden birini yazınız: Tas, Kagıt, veya Makas.\")\n",
        "            continue  # Bu turu atla ve bir sonraki tur için döngüye devam et\n",
        "\n",
        "        # Bilgisayarın rastgele bir seçim yapması\n",
        "        computer_choice = random.choice(choices)\n",
        "\n",
        "        print(f\"You chose {user_choice}, computer chose {computer_choice}\")\n",
        "\n",
        "        # Kazananın belirlenmesi\n",
        "        if user_choice == computer_choice:\n",
        "            print(\"No point. Try again.\")\n",
        "        elif (\n",
        "            (user_choice == 'Tas' and computer_choice == 'Makas') or\n",
        "            (user_choice == 'Kagıt' and computer_choice == 'Tas') or\n",
        "            (user_choice == 'Makas' and computer_choice == 'Kagıt')\n",
        "        ):\n",
        "            print(\"Congrats! You win one point.\")\n",
        "            user_score += 1\n",
        "        else:\n",
        "            print(\"You lost. Computer wins one point.\")\n",
        "            computer_score += 1\n",
        "\n",
        "        print(f\"Score: You {user_score} - Computer {computer_score}\")\n",
        "\n",
        "    # Sonuc\n",
        "    if user_score > computer_score\n",
        "        print(\"Game finished. Congrats, you won!\")\n",
        "    else:\n",
        "        print(\"Game finished. Sorry, you lost.\")\n",
        "tas_kagit_makas_Sude_Rabia_Karaaslan()"
      ],
      "metadata": {
        "id": "w0VrKRHAG6yz"
      },
      "execution_count": null,
      "outputs": []
    }
  ],
  "metadata": {
    "colab": {
      "provenance": []
    },
    "kernelspec": {
      "display_name": "Python 3",
      "name": "python3"
    },
    "language_info": {
      "name": "python"
    }
  },
  "nbformat": 4,
  "nbformat_minor": 0
}